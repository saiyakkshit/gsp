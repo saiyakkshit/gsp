{
  "nbformat": 4,
  "nbformat_minor": 0,
  "metadata": {
    "colab": {
      "provenance": [],
      "include_colab_link": true
    },
    "kernelspec": {
      "name": "python3",
      "display_name": "Python 3"
    },
    "language_info": {
      "name": "python"
    }
  },
  "cells": [
    {
      "cell_type": "markdown",
      "metadata": {
        "id": "view-in-github",
        "colab_type": "text"
      },
      "source": [
        "<a href=\"https://colab.research.google.com/github/saiyakkshit/GoogleCloudReady-Facilitator-Program/blob/main/tip_of_the_day.ipynb\" target=\"_parent\"><img src=\"https://colab.research.google.com/assets/colab-badge.svg\" alt=\"Open In Colab\"/></a>"
      ]
    },
    {
      "cell_type": "code",
      "execution_count": null,
      "metadata": {
        "id": "IYvBoXSqsa_Z"
      },
      "outputs": [],
      "source": [
        "!pip install trycourier"
      ]
    },
    {
      "cell_type": "code",
      "source": [
        "!git init"
      ],
      "metadata": {
        "id": "O7yBeCuzXni0"
      },
      "execution_count": null,
      "outputs": []
    },
    {
      "cell_type": "code",
      "source": [
        "import smtplib\n",
        "from email.message import EmailMessage"
      ],
      "metadata": {
        "id": "loULXZtQ4gaF"
      },
      "execution_count": null,
      "outputs": []
    },
    {
      "cell_type": "code",
      "source": [
        "!pip install healthcareai"
      ],
      "metadata": {
        "id": "OcSOleqRe3CR"
      },
      "execution_count": null,
      "outputs": []
    },
    {
      "cell_type": "code",
      "source": [
        "!pip install pywhatkit"
      ],
      "metadata": {
        "id": "mtuFXgS-87HG"
      },
      "execution_count": null,
      "outputs": []
    },
    {
      "cell_type": "code",
      "source": [
        "from healthcareai import SupervisedModelTrainer"
      ],
      "metadata": {
        "id": "wXgm86dOeWzX"
      },
      "execution_count": null,
      "outputs": []
    },
    {
      "cell_type": "code",
      "source": [
        "from google.colab import files\n",
        "import pandas as pd\n",
        "from trycourier import Courier\n",
        "import sys\n",
        "import datetime\n",
        "import random"
      ],
      "metadata": {
        "id": "qbBUKKL3fa7T"
      },
      "execution_count": null,
      "outputs": []
    },
    {
      "cell_type": "code",
      "source": [
        "ds = pd.read_csv('/content/popular_quotes.csv')"
      ],
      "metadata": {
        "id": "0tNlaYQBlJIK"
      },
      "execution_count": null,
      "outputs": []
    },
    {
      "cell_type": "code",
      "source": [
        "df = pd.DataFrame(ds)\n",
        "DailyQuote = df['quotes']\n",
        "random_qoutes = random.choice(DailyQuote)"
      ],
      "metadata": {
        "id": "PTh_XN6r6X8T"
      },
      "execution_count": null,
      "outputs": []
    },
    {
      "cell_type": "code",
      "source": [
        "# DailyQuote = new_ds.head(1)\n",
        "print(random_qoutes)"
      ],
      "metadata": {
        "colab": {
          "base_uri": "https://localhost:8080/"
        },
        "id": "7rypxCf92UdA",
        "outputId": "1657a6d8-4af4-401a-e699-9024cf57c29b"
      },
      "execution_count": null,
      "outputs": [
        {
          "output_type": "stream",
          "name": "stdout",
          "text": [
            "If you end up with a boring miserable life because you listened to your mom, your dad, your teacher, your priest, or some guy on television telling you how to do your shit, then you deserve it.\n"
          ]
        }
      ]
    },
    {
      "cell_type": "code",
      "source": [
        "now = datetime.datetime.now()\n",
        "current_time = now.strftime('%H:%M')\n",
        "print(current_time)"
      ],
      "metadata": {
        "colab": {
          "base_uri": "https://localhost:8080/"
        },
        "id": "J3_ySc82_bxT",
        "outputId": "5c2dcdba-f909-4379-dd12-6c5689542df5"
      },
      "execution_count": null,
      "outputs": [
        {
          "output_type": "stream",
          "name": "stdout",
          "text": [
            "23:01\n"
          ]
        }
      ]
    },
    {
      "cell_type": "code",
      "source": [
        "recipientmail = ['obka22@student.bth.se','absk22@student.bth.se','hemendranath0573@gmail.com','saiyakkshit2001@gmail.com','yakkshit.tactopus@gmail.com']\n",
        "if current_time == \"23:01\":\n",
        "  for i in range(0,5):\n",
        "    client = Courier(auth_token=\"pk_prod_8FD951KRB8MKGXQCTA2XX725WSHH\") #or set via COURIER_AUTH_TOKEN env var\n",
        "    #yakkshit.tactopus@gmail.com\n",
        "    resp = client.send_message(\n",
        "      message={\n",
        "        'to': {\n",
        "          'email': recipientmail[i],\n",
        "          'data': {'name': 'enjoy pandago friends ', 'Subject' : random_qoutes}\n",
        "        },\n",
        "        'content': {\n",
        "          'title': 'Tip of the Day',\n",
        "          'body': '{name} Quote of the day is {Subject}',\n",
        "        },\n",
        "        'routing': {\n",
        "          'method': 'single',\n",
        "          'channels': ['email'],\n",
        "        }\n",
        "      }\n",
        "    )\n",
        "    print(resp['requestId'])"
      ],
      "metadata": {
        "id": "VylGXXAE9dnB"
      },
      "execution_count": null,
      "outputs": []
    }
  ]
}